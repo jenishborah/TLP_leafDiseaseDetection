{
 "cells": [
  {
   "cell_type": "code",
   "execution_count": 2,
   "id": "1ae1d4f5",
   "metadata": {},
   "outputs": [],
   "source": [
    "import tensorflow as tf\n",
    "from tensorflow.keras.preprocessing.image import ImageDataGenerator\n",
    "import numpy as np\n",
    "from sklearn.metrics import classification_report, confusion_matrix"
   ]
  },
  {
   "cell_type": "code",
   "execution_count": 3,
   "id": "8a0b45e7",
   "metadata": {},
   "outputs": [],
   "source": [
    "data_dir='D:\\\\Msc GU\\\\Msc 4th Sem\\\\Project\\\\DataSet\\\\teadataset'"
   ]
  },
  {
   "cell_type": "code",
   "execution_count": 4,
   "id": "b9b5e329",
   "metadata": {},
   "outputs": [
    {
     "name": "stdout",
     "output_type": "stream",
     "text": [
      "Found 711 images belonging to 8 classes.\n",
      "Found 174 images belonging to 8 classes.\n"
     ]
    }
   ],
   "source": [
    "# Set up data augmentation\n",
    "datagen = ImageDataGenerator(\n",
    "    rescale=1./255,\n",
    "    rotation_range=20,\n",
    "    width_shift_range=0.2,\n",
    "    height_shift_range=0.2,\n",
    "    shear_range=0.2,\n",
    "    zoom_range=0.2,\n",
    "    horizontal_flip=True,\n",
    "    validation_split=0.2)\n",
    "\n",
    "# Load in the dataset\n",
    "train_data = datagen.flow_from_directory(\n",
    "    data_dir,\n",
    "    target_size=(224, 224),\n",
    "    batch_size=32,\n",
    "    class_mode='categorical',\n",
    "    subset='training')\n",
    "\n",
    "val_data = datagen.flow_from_directory(\n",
    "    data_dir,\n",
    "    target_size=(224, 224),\n",
    "    batch_size=32,\n",
    "    class_mode='categorical',\n",
    "    subset='validation')"
   ]
  },
  {
   "cell_type": "code",
   "execution_count": 5,
   "id": "1663fc9c",
   "metadata": {},
   "outputs": [],
   "source": [
    "batch_size=32"
   ]
  },
  {
   "cell_type": "code",
   "execution_count": 9,
   "id": "e89fa29d",
   "metadata": {},
   "outputs": [
    {
     "name": "stderr",
     "output_type": "stream",
     "text": [
      "WARNING:absl:`lr` is deprecated, please use `learning_rate` instead, or use the legacy optimizer, e.g.,tf.keras.optimizers.legacy.Adam.\n"
     ]
    },
    {
     "name": "stdout",
     "output_type": "stream",
     "text": [
      "Epoch 1/50\n",
      "22/22 [==============================] - 234s 9s/step - loss: 1.8455 - accuracy: 0.2916 - val_loss: 1.2862 - val_accuracy: 0.5437\n",
      "Epoch 2/50\n",
      "22/22 [==============================] - 184s 9s/step - loss: 1.1826 - accuracy: 0.5611 - val_loss: 1.1004 - val_accuracy: 0.5938\n",
      "Epoch 3/50\n",
      "22/22 [==============================] - 126s 6s/step - loss: 1.0331 - accuracy: 0.5994 - val_loss: 0.9507 - val_accuracy: 0.6562\n",
      "Epoch 4/50\n",
      "22/22 [==============================] - 91s 4s/step - loss: 0.8908 - accuracy: 0.6524 - val_loss: 0.9061 - val_accuracy: 0.6187\n",
      "Epoch 5/50\n",
      "22/22 [==============================] - 92s 4s/step - loss: 0.7932 - accuracy: 0.6878 - val_loss: 0.9026 - val_accuracy: 0.6062\n",
      "Epoch 6/50\n",
      "22/22 [==============================] - 132s 6s/step - loss: 0.7569 - accuracy: 0.7261 - val_loss: 0.8816 - val_accuracy: 0.6187\n",
      "Epoch 7/50\n",
      "22/22 [==============================] - 180s 8s/step - loss: 0.6843 - accuracy: 0.7349 - val_loss: 0.9354 - val_accuracy: 0.6500\n",
      "Epoch 8/50\n",
      "22/22 [==============================] - 163s 8s/step - loss: 0.7327 - accuracy: 0.7054 - val_loss: 0.9399 - val_accuracy: 0.6062\n",
      "Epoch 9/50\n",
      "22/22 [==============================] - 92s 4s/step - loss: 0.6486 - accuracy: 0.7526 - val_loss: 0.8735 - val_accuracy: 0.6500\n",
      "Epoch 10/50\n",
      "22/22 [==============================] - 97s 4s/step - loss: 0.6391 - accuracy: 0.7658 - val_loss: 0.9640 - val_accuracy: 0.6125\n",
      "Epoch 11/50\n",
      "22/22 [==============================] - 100s 5s/step - loss: 0.5920 - accuracy: 0.7658 - val_loss: 0.9090 - val_accuracy: 0.6250\n",
      "Epoch 12/50\n",
      "22/22 [==============================] - 99s 5s/step - loss: 0.6385 - accuracy: 0.7511 - val_loss: 0.9670 - val_accuracy: 0.6187\n",
      "Epoch 13/50\n",
      "22/22 [==============================] - 104s 5s/step - loss: 0.6179 - accuracy: 0.7658 - val_loss: 0.9546 - val_accuracy: 0.6187\n",
      "Epoch 14/50\n",
      "22/22 [==============================] - 123s 6s/step - loss: 0.6329 - accuracy: 0.7673 - val_loss: 0.8424 - val_accuracy: 0.6938\n",
      "Epoch 15/50\n",
      "22/22 [==============================] - 99s 4s/step - loss: 0.5705 - accuracy: 0.7732 - val_loss: 0.8413 - val_accuracy: 0.6625\n",
      "Epoch 16/50\n",
      "22/22 [==============================] - 98s 4s/step - loss: 0.6059 - accuracy: 0.7555 - val_loss: 0.7770 - val_accuracy: 0.6812\n",
      "Epoch 17/50\n",
      "22/22 [==============================] - 100s 5s/step - loss: 0.5456 - accuracy: 0.7912 - val_loss: 0.7485 - val_accuracy: 0.7188\n",
      "Epoch 18/50\n",
      "22/22 [==============================] - 98s 4s/step - loss: 0.4922 - accuracy: 0.8130 - val_loss: 0.7944 - val_accuracy: 0.6687\n",
      "Epoch 19/50\n",
      "22/22 [==============================] - 104s 5s/step - loss: 0.5207 - accuracy: 0.8144 - val_loss: 0.9114 - val_accuracy: 0.6562\n",
      "Epoch 20/50\n",
      "22/22 [==============================] - 111s 5s/step - loss: 0.5029 - accuracy: 0.8189 - val_loss: 0.8040 - val_accuracy: 0.7000\n",
      "Epoch 21/50\n",
      "22/22 [==============================] - 105s 5s/step - loss: 0.5104 - accuracy: 0.8041 - val_loss: 0.8215 - val_accuracy: 0.6625\n",
      "Epoch 22/50\n",
      "22/22 [==============================] - 116s 5s/step - loss: 0.4523 - accuracy: 0.8351 - val_loss: 0.8037 - val_accuracy: 0.6875\n",
      "Epoch 23/50\n",
      "22/22 [==============================] - 110s 5s/step - loss: 0.4400 - accuracy: 0.8306 - val_loss: 0.8080 - val_accuracy: 0.6625\n",
      "Epoch 24/50\n",
      "22/22 [==============================] - 100s 5s/step - loss: 0.4939 - accuracy: 0.7894 - val_loss: 0.8177 - val_accuracy: 0.6750\n",
      "Epoch 25/50\n",
      "22/22 [==============================] - 99s 4s/step - loss: 0.4717 - accuracy: 0.8041 - val_loss: 0.6994 - val_accuracy: 0.7000\n",
      "Epoch 26/50\n",
      "22/22 [==============================] - 104s 5s/step - loss: 0.4652 - accuracy: 0.7894 - val_loss: 0.8584 - val_accuracy: 0.6625\n",
      "Epoch 27/50\n",
      "22/22 [==============================] - 100s 5s/step - loss: 0.4959 - accuracy: 0.8056 - val_loss: 0.8357 - val_accuracy: 0.6938\n",
      "Epoch 28/50\n",
      "22/22 [==============================] - 103s 5s/step - loss: 0.4235 - accuracy: 0.8324 - val_loss: 0.7990 - val_accuracy: 0.6625\n",
      "Epoch 29/50\n",
      "22/22 [==============================] - 100s 5s/step - loss: 0.4503 - accuracy: 0.8218 - val_loss: 0.7280 - val_accuracy: 0.6938\n",
      "Epoch 30/50\n",
      "22/22 [==============================] - 100s 5s/step - loss: 0.4337 - accuracy: 0.8306 - val_loss: 0.8453 - val_accuracy: 0.6500\n",
      "Epoch 31/50\n",
      "22/22 [==============================] - 101s 5s/step - loss: 0.4098 - accuracy: 0.8439 - val_loss: 1.0157 - val_accuracy: 0.6313\n",
      "Epoch 32/50\n",
      "22/22 [==============================] - 99s 5s/step - loss: 0.4294 - accuracy: 0.8203 - val_loss: 0.7282 - val_accuracy: 0.7063\n",
      "Epoch 33/50\n",
      "22/22 [==============================] - 100s 5s/step - loss: 0.4636 - accuracy: 0.8100 - val_loss: 0.8691 - val_accuracy: 0.6250\n",
      "Epoch 34/50\n",
      "22/22 [==============================] - 100s 5s/step - loss: 0.4170 - accuracy: 0.8351 - val_loss: 0.7807 - val_accuracy: 0.7063\n",
      "Epoch 35/50\n",
      "22/22 [==============================] - 102s 5s/step - loss: 0.4097 - accuracy: 0.8218 - val_loss: 0.9097 - val_accuracy: 0.6125\n",
      "Epoch 36/50\n",
      "22/22 [==============================] - 102s 5s/step - loss: 0.4224 - accuracy: 0.8277 - val_loss: 0.7185 - val_accuracy: 0.7125\n",
      "Epoch 37/50\n",
      "22/22 [==============================] - 98s 4s/step - loss: 0.3849 - accuracy: 0.8483 - val_loss: 0.8861 - val_accuracy: 0.6500\n",
      "Epoch 38/50\n",
      "22/22 [==============================] - 104s 5s/step - loss: 0.3433 - accuracy: 0.8736 - val_loss: 0.9116 - val_accuracy: 0.6562\n",
      "Epoch 39/50\n",
      "22/22 [==============================] - 104s 5s/step - loss: 0.4566 - accuracy: 0.8196 - val_loss: 0.8026 - val_accuracy: 0.6812\n",
      "Epoch 40/50\n",
      "22/22 [==============================] - 102s 5s/step - loss: 0.4408 - accuracy: 0.8380 - val_loss: 0.7644 - val_accuracy: 0.6750\n",
      "Epoch 41/50\n",
      "22/22 [==============================] - 104s 5s/step - loss: 0.4088 - accuracy: 0.8483 - val_loss: 0.8017 - val_accuracy: 0.7125\n",
      "Epoch 42/50\n",
      "22/22 [==============================] - 105s 5s/step - loss: 0.3639 - accuracy: 0.8689 - val_loss: 0.6729 - val_accuracy: 0.7500\n",
      "Epoch 43/50\n",
      "22/22 [==============================] - 101s 5s/step - loss: 0.4090 - accuracy: 0.8247 - val_loss: 0.9509 - val_accuracy: 0.6438\n",
      "Epoch 44/50\n",
      "22/22 [==============================] - 99s 5s/step - loss: 0.3998 - accuracy: 0.8409 - val_loss: 0.8845 - val_accuracy: 0.6875\n",
      "Epoch 45/50\n",
      "22/22 [==============================] - 99s 5s/step - loss: 0.4040 - accuracy: 0.8454 - val_loss: 0.8018 - val_accuracy: 0.6875\n",
      "Epoch 46/50\n",
      "22/22 [==============================] - 101s 5s/step - loss: 0.3285 - accuracy: 0.8792 - val_loss: 0.8830 - val_accuracy: 0.6625\n",
      "Epoch 47/50\n",
      "22/22 [==============================] - 99s 5s/step - loss: 0.3412 - accuracy: 0.8733 - val_loss: 0.7942 - val_accuracy: 0.6938\n",
      "Epoch 48/50\n",
      "22/22 [==============================] - 103s 5s/step - loss: 0.3474 - accuracy: 0.8679 - val_loss: 0.8923 - val_accuracy: 0.6625\n",
      "Epoch 49/50\n",
      "22/22 [==============================] - 100s 5s/step - loss: 0.3538 - accuracy: 0.8616 - val_loss: 0.8879 - val_accuracy: 0.6750\n",
      "Epoch 50/50\n",
      "22/22 [==============================] - 98s 4s/step - loss: 0.3564 - accuracy: 0.8733 - val_loss: 0.8093 - val_accuracy: 0.7000\n"
     ]
    }
   ],
   "source": [
    "base_model = tf.keras.applications.NASNetMobile(\n",
    "    input_shape=(224, 224, 3),\n",
    "    include_top=False)\n",
    "\n",
    "# Freeze all but the last few layers of the base model\n",
    "for layer in base_model.layers[:-10]:\n",
    "    layer.trainable = False\n",
    "\n",
    "# Add some layers on top of the pre-trained model\n",
    "x = base_model.output\n",
    "x = tf.keras.layers.GlobalAveragePooling2D()(x)\n",
    "x = tf.keras.layers.Dense(512, activation='relu')(x)\n",
    "x = tf.keras.layers.Dropout(0.5)(x)\n",
    "x = tf.keras.layers.Dense(8, activation='softmax')(x)\n",
    "\n",
    "# Create the final model\n",
    "model = tf.keras.models.Model(inputs=base_model.input, outputs=x)\n",
    "\n",
    "# Compile the model\n",
    "model.compile(optimizer=tf.keras.optimizers.Adam(lr=1e-4),\n",
    "              loss='categorical_crossentropy',\n",
    "              metrics=['accuracy'])\n",
    "\n",
    "# Train the model with data augmentation and early stopping\n",
    "history = model.fit(\n",
    "    train_data,\n",
    "    steps_per_epoch=train_data.n// batch_size,\n",
    "    epochs=50,\n",
    "    validation_steps=val_data.n// batch_size,\n",
    "    validation_data=val_data)\n"
   ]
  },
  {
   "cell_type": "code",
   "execution_count": 10,
   "id": "d92ef2e5",
   "metadata": {},
   "outputs": [],
   "source": [
    "import matplotlib.pyplot as plt\n",
    "\n",
    "def plot_loss(history):\n",
    "    # Plot training and validation loss\n",
    "    plt.plot(history.history['loss'])\n",
    "    plt.plot(history.history['val_loss'])\n",
    "    plt.title('Model Loss')\n",
    "    plt.ylabel('Loss')\n",
    "    plt.xlabel('Epoch')\n",
    "    plt.legend(['Train', 'Test'], loc='upper right')\n",
    "    plt.show()\n",
    "\n",
    "def plot_accuracy(history):\n",
    "    # Plot training and validation accuracy\n",
    "    plt.plot(history.history['accuracy'])\n",
    "    plt.plot(history.history['val_accuracy'])\n",
    "    plt.title('Model Accuracy')\n",
    "    plt.ylabel('Accuracy')\n",
    "    plt.xlabel('Epoch')\n",
    "    plt.legend(['Train', 'Test'], loc='lower right')\n",
    "    plt.show()\n",
    "\n"
   ]
  },
  {
   "cell_type": "code",
   "execution_count": 16,
   "id": "4c8b7069",
   "metadata": {},
   "outputs": [
    {
     "name": "stdout",
     "output_type": "stream",
     "text": [
      "Found 528 images belonging to 8 classes.\n"
     ]
    }
   ],
   "source": [
    "datagen = ImageDataGenerator(\n",
    "    rescale=1./255,\n",
    "    rotation_range=20,\n",
    "    width_shift_range=0.2,\n",
    "    height_shift_range=0.2,\n",
    "    shear_range=0.2,\n",
    "    zoom_range=0.2,\n",
    "    horizontal_flip=True,\n",
    "    validation_split=0.6)\n",
    "\n",
    "test_data = datagen.flow_from_directory(\n",
    "    data_dir,\n",
    "    target_size=(224, 224),\n",
    "    batch_size= 32,\n",
    "    shuffle=True,\n",
    "    class_mode='categorical',\n",
    "    subset='validation')"
   ]
  },
  {
   "cell_type": "code",
   "execution_count": 17,
   "id": "e26f4ad2",
   "metadata": {},
   "outputs": [
    {
     "name": "stdout",
     "output_type": "stream",
     "text": [
      "17/17 [==============================] - 58s 3s/step - loss: 0.4465 - accuracy: 0.8333\n",
      "Test Loss: 0.44654977321624756\n",
      "Test Accuracy: 0.8333333134651184\n"
     ]
    }
   ],
   "source": [
    "# Evaluate the model on the test set\n",
    "loss, accuracy = model.evaluate(test_data)\n",
    "\n",
    "# Print the results\n",
    "print('Test Loss:', loss)\n",
    "print('Test Accuracy:', accuracy)"
   ]
  },
  {
   "cell_type": "code",
   "execution_count": 15,
   "id": "84a2be23",
   "metadata": {},
   "outputs": [
    {
     "data": {
      "image/png": "[encoded data removed]",
      "text/plain": [
       "<Figure size 432x288 with 1 Axes>"
      ]
     },
     "metadata": {
      "needs_background": "light"
     },
     "output_type": "display_data"
    },
    {
     "data": {
      "image/png": "[encoded data removed]",
      "text/plain": [
       "<Figure size 432x288 with 1 Axes>"
      ]
     },
     "metadata": {
      "needs_background": "light"
     },
     "output_type": "display_data"
    }
   ],
   "source": [
    "plot_loss(history)\n",
    "plot_accuracy(history)"
   ]
  },
  {
   "cell_type": "code",
   "execution_count": null,
   "id": "436a2387",
   "metadata": {},
   "outputs": [],
   "source": []
  }
 ],
 "metadata": {
  "kernelspec": {
   "display_name": "Python 3 (ipykernel)",
   "language": "python",
   "name": "python3"
  },
  "language_info": {
   "codemirror_mode": {
    "name": "ipython",
    "version": 3
   },
   "file_extension": ".py",
   "mimetype": "text/x-python",
   "name": "python",
   "nbconvert_exporter": "python",
   "pygments_lexer": "ipython3",
   "version": "3.9.12"
  }
 },
 "nbformat": 4,
 "nbformat_minor": 5
}
